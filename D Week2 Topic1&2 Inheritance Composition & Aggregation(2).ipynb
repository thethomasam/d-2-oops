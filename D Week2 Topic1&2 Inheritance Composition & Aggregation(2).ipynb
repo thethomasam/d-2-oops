{
 "cells": [
  {
   "cell_type": "code",
   "execution_count": 4,
   "metadata": {},
   "outputs": [
    {
     "ename": "ModuleNotFoundError",
     "evalue": "No module named 'pandas'",
     "output_type": "error",
     "traceback": [
      "\u001b[0;31m---------------------------------------------------------------------------\u001b[0m",
      "\u001b[0;31mModuleNotFoundError\u001b[0m                       Traceback (most recent call last)",
      "\u001b[1;32m/Users/samkoshythomas/Desktop/assignments_FCS/D_W2_OOPs/D Week2 Topic1&2 Inheritance Composition & Aggregation(2).ipynb Cell 1'\u001b[0m in \u001b[0;36m<cell line: 1>\u001b[0;34m()\u001b[0m\n\u001b[0;32m----> <a href='vscode-notebook-cell:/Users/samkoshythomas/Desktop/assignments_FCS/D_W2_OOPs/D%20Week2%20Topic1%262%20Inheritance%20Composition%20%26%20Aggregation%282%29.ipynb#ch0000000?line=0'>1</a>\u001b[0m \u001b[39mimport\u001b[39;00m \u001b[39mpandas\u001b[39;00m \u001b[39mas\u001b[39;00m \u001b[39mpd\u001b[39;00m\n\u001b[1;32m      <a href='vscode-notebook-cell:/Users/samkoshythomas/Desktop/assignments_FCS/D_W2_OOPs/D%20Week2%20Topic1%262%20Inheritance%20Composition%20%26%20Aggregation%282%29.ipynb#ch0000000?line=1'>2</a>\u001b[0m \u001b[39mimport\u001b[39;00m \u001b[39mnumpy\u001b[39;00m \u001b[39mas\u001b[39;00m \u001b[39mnp\u001b[39;00m\n\u001b[1;32m      <a href='vscode-notebook-cell:/Users/samkoshythomas/Desktop/assignments_FCS/D_W2_OOPs/D%20Week2%20Topic1%262%20Inheritance%20Composition%20%26%20Aggregation%282%29.ipynb#ch0000000?line=2'>3</a>\u001b[0m get_ipython()\u001b[39m.\u001b[39mrun_line_magic(\u001b[39m'\u001b[39m\u001b[39mmatplotlib\u001b[39m\u001b[39m'\u001b[39m, \u001b[39m'\u001b[39m\u001b[39minline\u001b[39m\u001b[39m'\u001b[39m)\n",
      "\u001b[0;31mModuleNotFoundError\u001b[0m: No module named 'pandas'"
     ]
    }
   ],
   "source": [
    "import pandas as pd\n",
    "import numpy as np\n",
    "%matplotlib inline\n",
    "import otter\n",
    "grader = otter.Notebook()"
   ]
  },
  {
   "cell_type": "markdown",
   "metadata": {},
   "source": [
    "# D | Week 2: Practice Inheritance Composition & Aggregation\n",
    "\n",
    "------\n",
    "\n",
    "### Instructions:\n",
    "\n",
    "- Complete 50 points worth of questions to pass the assessment\n",
    "  - You can attempt any number of questions and in any order provided you pass at least 50 points.\n",
    "- Develop and check your answers in the spaces provided.\n",
    "  - Do not remove any variables other provided markings already present in the answer spaces.\n",
    "  - Do not make any changes to this notebook outside of the answer spaces provided.\n",
    "  \n",
    "#### Submitting\n",
    "\n",
    "- Upload your .ipynb file to Gradescope (Make sure to restart the kernel and run all before you submit)\n",
    "- You can submit as many times as needed\n",
    "- When reviewing results, ignore any results listed under \"Public Tests\"\n",
    "\n",
    "For more information, see the assessment page. We have also provided an example question below for clarity. "
   ]
  },
  {
   "cell_type": "markdown",
   "metadata": {},
   "source": [
    "#### Question 1&nbsp;&nbsp;&nbsp;&nbsp;&nbsp;&nbsp;(15 Points)\n",
    "\n",
    "1.Create a class Speaker with the following ***instance variables*** and methods -<br />\n",
    "Attributes -\n",
    "```\n",
    "public\n",
    "\n",
    "1. jack (float) [2.5 or 3.5]\n",
    "2. tweeters (int)\n",
    "3. woofers (int)\n",
    "\n",
    "```\n",
    "Methods - <br />\n",
    "```\n",
    "public\n",
    "\n",
    "play_music() #returns \"Playing Music\"\n",
    "\n",
    "```\n",
    "\n",
    "2.Create another class BluetoothSpeaker which inherits from Speaker and has following instance variable and methods -  <br />\n",
    "Attributes -\n",
    "```\n",
    "public\n",
    "battery = (int) 100\n",
    "\n",
    "protected -\n",
    "connected_to (string)\n",
    "\n",
    "```\n",
    "Methods -\n",
    "```\n",
    "public \n",
    "\n",
    "play_music() #returns \"Playing Music from Mobile\" (if connected_to == Mobile)\n",
    "set_connected_to(device) #sets value of connected_to = device\n",
    "get_connected_to() #returns connected_to\n",
    "\n",
    "```\n",
    "\n",
    "Instantiate two objects for both classes as follows-\n",
    "```\n",
    "\n",
    "q1_o1 = Speaker(2.5,2,2)\n",
    "q1_o2 = BluetoothSpeaker(3.5,2,2,\"mobile\")\n",
    "\n",
    "```"
   ]
  },
  {
   "cell_type": "code",
   "execution_count": 18,
   "metadata": {
    "tags": []
   },
   "outputs": [],
   "source": [
    "# Write your solution here\n",
    "class Speaker:\n",
    "    def __init__(self,jack,tweeters,woofers):\n",
    "        self.tweeters=tweeters\n",
    "        self.woofers=woofers\n",
    "        self.jack=jack\n",
    "    def __str__(self):\n",
    "        print(self.jack)\n",
    "    def set_skill(self,skills):\n",
    "        self.skill=skills\n",
    "\n",
    "    def play_music(self):\n",
    "        return \"Playing music\"\n",
    "class BluetoothSpeaker(Speaker):\n",
    "    def __init__(self,jack,tweeters,woofers,connected_to,battery=100):\n",
    "        self.battery=battery\n",
    "        self._connected_to=connected_to\n",
    "        Speaker.__init__(self,jack,tweeters,woofers)\n",
    "    def play_music(self):\n",
    "        return \"Playing music from \"+str(self._connected_to)\n",
    "    def set_connected_to(self,device):\n",
    "        self._connected_to=device#sets value of connected_to = device\n",
    "    def get_connected_to(self):\n",
    "       \n",
    "        return self._connected_to\n",
    "    \n",
    "\n",
    "\n",
    "q1_o1 = Speaker(2.5,2,2)\n",
    "\n",
    "\n",
    "q1_o2 = BluetoothSpeaker(3.5,2,2,\"mobile\")\n"
   ]
  },
  {
   "cell_type": "markdown",
   "metadata": {},
   "source": [
    "#### Question 2&nbsp;&nbsp;&nbsp;&nbsp;&nbsp;&nbsp;(10 Points)\n",
    "\n",
    "Create a new class ``SmartSpeakerInherited`` that inherits from `SmartSpeaker` and has an additional ***instance variable*** `skills`. \n",
    "\n",
    "Attributes -\n",
    "```\n",
    "public\n",
    "skills = None # set it be dafualt to None for now\n",
    "\n",
    "```\n",
    "\n",
    "Inititalize an object `q2_o` of type `SmartSpeakerInherited` as follows -\n",
    "\n",
    "```\n",
    "q2_ob = (SmartSpeakerInherited) SmartSpeakerInherited(3.5,2,2,\"mobile\",None)\n",
    "\n",
    "```"
   ]
  },
  {
   "cell_type": "code",
   "execution_count": 7,
   "metadata": {
    "tags": []
   },
   "outputs": [
    {
     "name": "stdout",
     "output_type": "stream",
     "text": [
      "mobile\n"
     ]
    }
   ],
   "source": [
    "# Write your solution here\n",
    "\n",
    "class SmartSpeakerInherited(BluetoothSpeaker):\n",
    "    def __init__(self,jack,tweeters,woofers,connected_to,skills=None):\n",
    "        self.skills=skills\n",
    "        BluetoothSpeaker.__init__(self,jack,tweeters,woofers,connected_to,battery=100)\n",
    "    \n",
    "q2_ob = SmartSpeakerInherited(3.5,2,2,\"mobile\",None)\n",
    "print( q2_ob._connected_to)"
   ]
  },
  {
   "cell_type": "markdown",
   "metadata": {},
   "source": [
    "#### Question 3&nbsp;&nbsp;&nbsp;&nbsp;&nbsp;&nbsp;(10 Points)\n",
    "Create a new class ``SmartSpeakerComposition`` that has two ***instance variables*** such that `SmartSpeakerComposition` is composed of an object( `speaker`) of class `BluetoothSpeaker` and `skills`. \n",
    "\n",
    "Attributes -\n",
    "```\n",
    "public\n",
    "speaker = (BluetoothSpeaker) BluetoothSpeaker(jack_type,no_of_tweeters,no_of_woofers,connected_to)\n",
    "skills = None # set it be dafault to None for now\n",
    "\n",
    "```\n",
    "\n",
    "Inititalize an object `q3_ob` of type `SmartSpeakerInherited` as follows -\n",
    "\n",
    "```\n",
    "q3_ob = SmartSpeakerComposition(5.5,4,2,\"playstation\",None)\n",
    "\n",
    "```"
   ]
  },
  {
   "cell_type": "code",
   "execution_count": 21,
   "metadata": {
    "tags": []
   },
   "outputs": [
    {
     "name": "stdout",
     "output_type": "stream",
     "text": [
      "100\n"
     ]
    }
   ],
   "source": [
    "# Write your solution here\n",
    "\n",
    "class SmartSpeakerComposition:\n",
    "    def __init__(self,jack_type,no_of_tweeters,no_of_woofers,connected_to,skill_name=None):\n",
    "        self.speaker=BluetoothSpeaker(jack_type,no_of_tweeters,no_of_woofers,connected_to)\n",
    "        self.skills=skill_name\n",
    "q3_ob = SmartSpeakerComposition(5.5,4,2,\"playstation\",None)\n",
    "print( q3_ob.speaker.battery)\n"
   ]
  },
  {
   "cell_type": "markdown",
   "metadata": {},
   "source": [
    "#### Question 4&nbsp;&nbsp;&nbsp;&nbsp;&nbsp;&nbsp;(10 Points)\n",
    "Create a new class ``SmartSpeakerAggregation`` that has two ***instance variables*** such that `SmartSpeakerAggregation` is aggregation of an object( `speaker_obj`) of class `Speaker` and `skills`. \n",
    "\n",
    "Attributes -\n",
    "```\n",
    "public\n",
    "speaker_obj = (Speaker) Speaker(jack_type,no_of_tweeters,no_of_woofers)\n",
    "skills = None # set it be dafault to None for now\n",
    "\n",
    "```\n",
    "<br>\n",
    "Inititalize two objects `speaker_obj` of type `Speaker` and `q4_ob` of type `SmartSpeakerInherited` as follows -\n",
    "\n",
    "```\n",
    "speaker_obj = Speaker(3.1,6,2)\n",
    "q4_ob = SmartSpeakerAggregation(speaker_obj,None)\n",
    "\n",
    "```\n",
    "<br>\n",
    "\n",
    "Think about how you would access `speaker_obj`,`q4_ob` and `q3_ob` `play_music()`function."
   ]
  },
  {
   "cell_type": "code",
   "execution_count": 34,
   "metadata": {
    "tags": []
   },
   "outputs": [
    {
     "name": "stdout",
     "output_type": "stream",
     "text": [
      "3.1\n"
     ]
    }
   ],
   "source": [
    "# Write your solution here\n",
    "class SmartSpeakerAggregation :\n",
    "    def __init__(self,speaker_obj,skills):\n",
    "        self.speaker=speaker_obj\n",
    "        self.skills=skills\n",
    "speaker_obj = Speaker(3.1,6,2)\n",
    "\n",
    "q4_ob = SmartSpeakerAggregation(speaker_obj,skills=None)\n",
    "print(q4_ob.speaker.jack)"
   ]
  },
  {
   "cell_type": "markdown",
   "metadata": {},
   "source": [
    "#### Question 5&nbsp;&nbsp;&nbsp;&nbsp;&nbsp;&nbsp;(15 Points)\n",
    "1.Create a new class ``Skills`` that has one ***instance variables*** `name` and one method `voice_input(value)`  \n",
    "\n",
    "Attributes -\n",
    "```\n",
    "public\n",
    "name = (string) \n",
    "```\n",
    "\n",
    "Methods - \n",
    "```\n",
    "voice_input(value) \n",
    "# prints out 'Hi, I am Alexa . How can I help?'  if self.name == 'Alexa'.\n",
    "```\n",
    "\n",
    "2.Create a new class ``MusicSkills`` that inherits from `Skills` and has the following <br>\n",
    "\n",
    "Attributes -\n",
    "```\n",
    "public\n",
    "music = (string) \"RHCP\"\n",
    "volume = (int) 10\n",
    "play = (Boolean) True\n",
    "```\n",
    "\n",
    "Methods - \n",
    "```\n",
    "what_is_playing() # returns self.music\n",
    "set_volume(value) # sets self.volume = value\n",
    "toggle_play()       # sets self.play = !self.play\n",
    "```\n",
    "\n",
    "\n",
    "\n",
    "Inititalize two objects `q5_ob` of type `MusicSkills` as follows -\n",
    "\n",
    "```\n",
    "q5_ob = MusicSkill(\"Alexa\")\n",
    "```"
   ]
  },
  {
   "cell_type": "code",
   "execution_count": 14,
   "metadata": {
    "tags": []
   },
   "outputs": [
    {
     "data": {
      "text/plain": [
       "['zsh:1: command not found: self.play']"
      ]
     },
     "execution_count": 14,
     "metadata": {},
     "output_type": "execute_result"
    }
   ],
   "source": [
    "# Write your solution here\n",
    "class Skills:\n",
    "    def __init__(self,name):\n",
    "        self.name=name\n",
    "    def voice_input(self,value):\n",
    "        if self.name==\"Alexa\":\n",
    "            print('Hi, I am Alexa . How can I help?')\n",
    "        \n",
    "class MusicSkill(Skills):\n",
    "    def __init__(self,name):\n",
    "        Skills.__init__(self,name)\n",
    "        self.music= \"RHCP\"\n",
    "        self.volume=10\n",
    "        self.play=True\n",
    "    def what_is_playing(self):\n",
    "        return self.music\n",
    "    def set_volume(self,volume):\n",
    "        self.volume=volume\n",
    "    def toggle_play(self):\n",
    "        self.play=!(self.play)\n",
    "q5_ob = MusicSkill(\"Alexa\")\n",
    "        \n",
    "q5_ob.what_is_playing()       \n",
    "q5_ob.set_volume(5)\n",
    "q5_ob.toggle_play()\n",
    "q5_ob.play"
   ]
  },
  {
   "cell_type": "markdown",
   "metadata": {},
   "source": [
    "#### Question 6&nbsp;&nbsp;&nbsp;&nbsp;&nbsp;&nbsp;(10 Points)\n",
    "Now that we have our speakers and skills ready, create a new class `AlexaDevice`  which inherits from `BluetoothSpeaker` and `MusicSkill` and instantiate an object `q6_ob` of class `AlexaDevice` as follows - \n",
    "```\n",
    "q6_ob = AlexaDevice(3.5,2,2,\"mobile\",\"Jasons_Alexa\")\n",
    "```\n",
    "and run the following commands and observe the outputs\n",
    "\n",
    "```\n",
    "print(q6_ob.name)\n",
    "str(type(q6_ob))\n",
    "print(q6_ob.what_is_playing())\n",
    "q6_ob.set_volume(5)\n",
    "q6_ob.volume\n",
    "q6_ob.toggle_play() \n",
    "print(q6_ob.play)\n",
    "```"
   ]
  },
  {
   "cell_type": "code",
   "execution_count": 16,
   "metadata": {
    "tags": []
   },
   "outputs": [
    {
     "name": "stdout",
     "output_type": "stream",
     "text": [
      "Jasons_Alexa\n",
      "RHCP\n",
      "['zsh:1: command not found: self.play']\n"
     ]
    }
   ],
   "source": [
    "# Write your solution here\n",
    "class AlexaDevice(BluetoothSpeaker,MusicSkill):\n",
    "    def __init__(self,jack,tweeters,woofers,connected_to,name):\n",
    "        BluetoothSpeaker.__init__(self,jack,tweeters,woofers,connected_to)\n",
    "        MusicSkill.__init__(self,name)\n",
    "q6_ob = AlexaDevice(3.5,2,2,\"mobile\",\"Jasons_Alexa\")\n",
    "q6_ob.toggle_play()\n",
    "\n",
    "print(q6_ob.name)\n",
    "str(type(q6_ob))\n",
    "print(q6_ob.what_is_playing())\n",
    "q6_ob.set_volume(5)\n",
    "q6_ob.volume\n",
    "q6_ob.toggle_play() \n",
    "print(q6_ob.play)\n"
   ]
  },
  {
   "cell_type": "markdown",
   "metadata": {},
   "source": [
    "#### Question 7&nbsp;&nbsp;&nbsp;&nbsp;&nbsp;&nbsp;(10 Points) \n",
    "Create 3 new objects of class `MusicSkill` <br>\n",
    "```\n",
    "alexa = MusicSkill(\"Alexa\")\n",
    "siri = MusicSkill(\"Siri\")\n",
    "google = MusicSkill(\"Google\")\n",
    "```\n",
    "set `q2_ob` objects skill = `siri` <br>\n",
    "set `q3_ob` objects skill = `google`<br>\n",
    "\n",
    "and store updated `q2_ob` and `q3_ob` in `q7_ob1` and `q7_ob2` respectively. <br>\n",
    "\n",
    "Run the following commands and observe how the attributes and methods are being accessed\n",
    "```\n",
    "q7_ob1.skills.voice_input(\"Siri\") == 'Hi, I am Siri . How can I help?'\n",
    "q7_ob2.skills.voice_input(\"Google\") == 'Hi, I am Google . How can I help?'\n",
    "q7_ob1.set_connected_to(\"Xbox\") \n",
    "q7_ob1.get_connected_to() == \"Xbox\"\n",
    "\n",
    "print(q7_ob1.skills.name)\n",
    "print(q7_ob1.skills)\n",
    "print(type(q7_ob2))\n",
    "print(q7_ob2.skills.what_is_playing())\n",
    "q7_ob2.skills.set_volume(5)\n",
    "print(q7_ob2.skills.volume)\n",
    "q7_ob2.skills.toggle_play()\n",
    "print(q7_ob2.skills.play)\n",
    "\n",
    "<!-- Does setting google = MusicSkill(\"Cortana\") change q7_ob2.skills as well ?-->\n",
    "google = MusicSkill(\"Cortana\")\n",
    "q7_ob2.skills.voice_input(\"Cortana\")\n",
    "```"
   ]
  },
  {
   "cell_type": "code",
   "execution_count": 31,
   "metadata": {
    "tags": []
   },
   "outputs": [
    {
     "ename": "AttributeError",
     "evalue": "'SmartSpeakerComposition' object has no attribute 'what_is_playing'",
     "output_type": "error",
     "traceback": [
      "\u001b[0;31m---------------------------------------------------------------------------\u001b[0m",
      "\u001b[0;31mAttributeError\u001b[0m                            Traceback (most recent call last)",
      "\u001b[1;32m/Users/samkoshythomas/Desktop/assignments_FCS/D_W2_OOPs/D Week2 Topic1&2 Inheritance Composition & Aggregation(2).ipynb Cell 16'\u001b[0m in \u001b[0;36m<cell line: 20>\u001b[0;34m()\u001b[0m\n\u001b[1;32m     <a href='vscode-notebook-cell:/Users/samkoshythomas/Desktop/assignments_FCS/D_W2_OOPs/D%20Week2%20Topic1%262%20Inheritance%20Composition%20%26%20Aggregation%282%29.ipynb#ch0000015?line=14'>15</a>\u001b[0m q7_ob1\u001b[39m.\u001b[39mget_connected_to() \u001b[39m==\u001b[39m \u001b[39m\"\u001b[39m\u001b[39mXbox\u001b[39m\u001b[39m\"\u001b[39m\n\u001b[1;32m     <a href='vscode-notebook-cell:/Users/samkoshythomas/Desktop/assignments_FCS/D_W2_OOPs/D%20Week2%20Topic1%262%20Inheritance%20Composition%20%26%20Aggregation%282%29.ipynb#ch0000015?line=16'>17</a>\u001b[0m \u001b[39m# print(q7_ob1.skills.name)\u001b[39;00m\n\u001b[1;32m     <a href='vscode-notebook-cell:/Users/samkoshythomas/Desktop/assignments_FCS/D_W2_OOPs/D%20Week2%20Topic1%262%20Inheritance%20Composition%20%26%20Aggregation%282%29.ipynb#ch0000015?line=17'>18</a>\u001b[0m \u001b[39m# print(q7_ob1.skills)\u001b[39;00m\n\u001b[1;32m     <a href='vscode-notebook-cell:/Users/samkoshythomas/Desktop/assignments_FCS/D_W2_OOPs/D%20Week2%20Topic1%262%20Inheritance%20Composition%20%26%20Aggregation%282%29.ipynb#ch0000015?line=18'>19</a>\u001b[0m \u001b[39m# print(type(q7_ob2))\u001b[39;00m\n\u001b[0;32m---> <a href='vscode-notebook-cell:/Users/samkoshythomas/Desktop/assignments_FCS/D_W2_OOPs/D%20Week2%20Topic1%262%20Inheritance%20Composition%20%26%20Aggregation%282%29.ipynb#ch0000015?line=19'>20</a>\u001b[0m \u001b[39mprint\u001b[39m(q7_ob2\u001b[39m.\u001b[39;49mwhat_is_playing())\n\u001b[1;32m     <a href='vscode-notebook-cell:/Users/samkoshythomas/Desktop/assignments_FCS/D_W2_OOPs/D%20Week2%20Topic1%262%20Inheritance%20Composition%20%26%20Aggregation%282%29.ipynb#ch0000015?line=20'>21</a>\u001b[0m q7_ob2\u001b[39m.\u001b[39mskills\u001b[39m.\u001b[39mset_volume(\u001b[39m5\u001b[39m)\n\u001b[1;32m     <a href='vscode-notebook-cell:/Users/samkoshythomas/Desktop/assignments_FCS/D_W2_OOPs/D%20Week2%20Topic1%262%20Inheritance%20Composition%20%26%20Aggregation%282%29.ipynb#ch0000015?line=21'>22</a>\u001b[0m \u001b[39mprint\u001b[39m(q7_ob2\u001b[39m.\u001b[39mskills\u001b[39m.\u001b[39mvolume)\n",
      "\u001b[0;31mAttributeError\u001b[0m: 'SmartSpeakerComposition' object has no attribute 'what_is_playing'"
     ]
    }
   ],
   "source": [
    "# Write your solution here\n",
    "\n",
    "alexa = MusicSkill(\"Alexa\")\n",
    "siri = MusicSkill(\"Siri\")\n",
    "google = MusicSkill(\"Google\")\n",
    "q2_ob.skills='siri'\n",
    "q3_ob.skills='google'\n",
    "q7_ob1=q2_ob\n",
    "q7_ob2=q3_ob\n",
    "\n",
    "\n",
    "# q7_ob1.skills.voice_input(\"Siri\") == 'Hi, I am Siri . How can I help?'\n",
    "# q7_ob2.skills.voice_input(\"Google\") == 'Hi, I am Google . How can I help?'\n",
    "q7_ob1.set_connected_to(\"Xbox\") \n",
    "q7_ob1.get_connected_to() == \"Xbox\"\n",
    "\n",
    "# print(q7_ob1.skills.name)\n",
    "# print(q7_ob1.skills)\n",
    "# print(type(q7_ob2))\n",
    "\n"
   ]
  },
  {
   "cell_type": "markdown",
   "metadata": {},
   "source": [
    "#### Question 8&nbsp;&nbsp;&nbsp;&nbsp;&nbsp;&nbsp;(10 Points) \n",
    "Update the code from Q3 such that `SmartSpeakerComposition` class has the following init method and initialised as- <br>\n",
    "```\n",
    "def __init__(self,jack_type,no_of_tweeters,no_of_woofers,connected_to,skill_name):\n",
    "        self.speaker = BluetoothSpeaker(jack_type,no_of_tweeters,no_of_woofers,connected_to)\n",
    "        self.skills = MusicSkill(skill_name)\n",
    "```\n",
    "create and object `q8_ob` from the new `SmartSpeakerComposition` class as follows -\n",
    "```\n",
    "q8_ob = SmartSpeakerComposition(5.5,4,2,\"playstation\",\"Alexa\")\n",
    "```"
   ]
  },
  {
   "cell_type": "code",
   "execution_count": 32,
   "metadata": {
    "tags": []
   },
   "outputs": [],
   "source": [
    "# Write your solution here\n",
    "q8_ob = SmartSpeakerComposition(5.5,4,2,\"playstation\",\"Alexa\")\n"
   ]
  },
  {
   "cell_type": "markdown",
   "metadata": {},
   "source": [
    "#### Question 9&nbsp;&nbsp;&nbsp;&nbsp;&nbsp;&nbsp;(10 Points)\n",
    "Assign `q4_ob.skills` to `MusicSkill(\"Google\")` and store `[q3_ob, q4_ob, q6_ob , q7_ob1 , q7_ob2]` in the same order in a list `q9_ob`. <br>"
   ]
  },
  {
   "cell_type": "code",
   "execution_count": 35,
   "metadata": {
    "tags": []
   },
   "outputs": [],
   "source": [
    "# Write your solution here\n",
    "q4_ob.skills=MusicSkill(\"Google\")\n",
    "q9_ob=[q3_ob, q4_ob, q6_ob , q7_ob1 , q7_ob2]"
   ]
  },
  {
   "cell_type": "code",
   "execution_count": null,
   "metadata": {},
   "outputs": [],
   "source": []
  }
 ],
 "metadata": {
  "celltoolbar": "Edit Metadata",
  "kernelspec": {
   "display_name": "Python 3",
   "language": "python",
   "name": "python3"
  },
  "language_info": {
   "codemirror_mode": {
    "name": "ipython",
    "version": 3
   },
   "file_extension": ".py",
   "mimetype": "text/x-python",
   "name": "python",
   "nbconvert_exporter": "python",
   "pygments_lexer": "ipython3",
   "version": "3.8.9"
  },
  "otter": {
   "tests": {
    "Question 01": {
     "name": "Question 01",
     "points": 15,
     "suites": [
      {
       "cases": [],
       "scored": true,
       "setup": "",
       "teardown": "",
       "type": "doctest"
      }
     ]
    },
    "Question 02": {
     "name": "Question 02",
     "points": 10,
     "suites": [
      {
       "cases": [],
       "scored": true,
       "setup": "",
       "teardown": "",
       "type": "doctest"
      }
     ]
    },
    "Question 03": {
     "name": "Question 03",
     "points": 10,
     "suites": [
      {
       "cases": [],
       "scored": true,
       "setup": "",
       "teardown": "",
       "type": "doctest"
      }
     ]
    },
    "Question 04": {
     "name": "Question 04",
     "points": 10,
     "suites": [
      {
       "cases": [],
       "scored": true,
       "setup": "",
       "teardown": "",
       "type": "doctest"
      }
     ]
    },
    "Question 05": {
     "name": "Question 05",
     "points": 15,
     "suites": [
      {
       "cases": [],
       "scored": true,
       "setup": "",
       "teardown": "",
       "type": "doctest"
      }
     ]
    },
    "Question 06": {
     "name": "Question 06",
     "points": 10,
     "suites": [
      {
       "cases": [],
       "scored": true,
       "setup": "",
       "teardown": "",
       "type": "doctest"
      }
     ]
    },
    "Question 07": {
     "name": "Question 07",
     "points": 10,
     "suites": [
      {
       "cases": [],
       "scored": true,
       "setup": "",
       "teardown": "",
       "type": "doctest"
      }
     ]
    },
    "Question 08": {
     "name": "Question 08",
     "points": 10,
     "suites": [
      {
       "cases": [],
       "scored": true,
       "setup": "",
       "teardown": "",
       "type": "doctest"
      }
     ]
    },
    "Question 09": {
     "name": "Question 09",
     "points": 10,
     "suites": [
      {
       "cases": [],
       "scored": true,
       "setup": "",
       "teardown": "",
       "type": "doctest"
      }
     ]
    }
   }
  },
  "varInspector": {
   "cols": {
    "lenName": 16,
    "lenType": 16,
    "lenVar": 40
   },
   "kernels_config": {
    "python": {
     "delete_cmd_postfix": "",
     "delete_cmd_prefix": "del ",
     "library": "var_list.py",
     "varRefreshCmd": "print(var_dic_list())"
    },
    "r": {
     "delete_cmd_postfix": ") ",
     "delete_cmd_prefix": "rm(",
     "library": "var_list.r",
     "varRefreshCmd": "cat(var_dic_list()) "
    }
   },
   "types_to_exclude": [
    "module",
    "function",
    "builtin_function_or_method",
    "instance",
    "_Feature"
   ],
   "window_display": false
  }
 },
 "nbformat": 4,
 "nbformat_minor": 4
}
